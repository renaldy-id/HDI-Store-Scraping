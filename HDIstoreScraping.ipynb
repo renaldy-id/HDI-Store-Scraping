{
 "cells": [
  {
   "cell_type": "code",
   "execution_count": 1,
   "id": "aa7de300",
   "metadata": {},
   "outputs": [],
   "source": [
    "#In this case we use BeautifulSoup and Selenium in web scraping\n",
    "import Beautfrom bs4 import BeautifulSoup"
   ]
  },
  {
   "cell_type": "code",
   "execution_count": 13,
   "id": "5f58db92",
   "metadata": {},
   "outputs": [],
   "source": [
    "#Define url to be scraped, in this case we'll scrape www.HDIstore.com to know the kinds of products that HDI sells in katalog page\n",
    "url = \"https://www.hdistore.com/katalog.html\""
   ]
  },
  {
   "cell_type": "code",
   "execution_count": 3,
   "id": "36d8b84c",
   "metadata": {},
   "outputs": [],
   "source": [
    "#import 'requests' module to access URL\n",
    "import requests as req"
   ]
  },
  {
   "cell_type": "code",
   "execution_count": 4,
   "id": "63ebc73a",
   "metadata": {},
   "outputs": [],
   "source": [
    "#Define 'page' to request URL page\n",
    "page = req.get(url)"
   ]
  },
  {
   "cell_type": "code",
   "execution_count": 8,
   "id": "b1bea396",
   "metadata": {},
   "outputs": [],
   "source": [
    "#import Selenium module packages, in this case we use Edge web browser\n",
    "from selenium import webdriver \n",
    "from selenium.webdriver.common.by import By\n",
    "from selenium.webdriver.common.keys import Keys\n",
    "from selenium.webdriver.edge.service import Service as EdgeService "
   ]
  },
  {
   "cell_type": "code",
   "execution_count": 9,
   "id": "ffe0b5b6",
   "metadata": {},
   "outputs": [],
   "source": [
    "#launch Edge web browser remotely \n",
    "driver = webdriver.Edge()"
   ]
  },
  {
   "cell_type": "code",
   "execution_count": 10,
   "id": "e34e92ec",
   "metadata": {},
   "outputs": [],
   "source": [
    "options = webdriver.EdgeOptions()"
   ]
  },
  {
   "cell_type": "code",
   "execution_count": 11,
   "id": "71237f0c",
   "metadata": {},
   "outputs": [],
   "source": [
    "options.headless = True"
   ]
  },
  {
   "cell_type": "code",
   "execution_count": 15,
   "id": "8271bc2a",
   "metadata": {},
   "outputs": [],
   "source": [
    "#Dive the URL in the remoted Edge web browser\n",
    "driver.get(url)"
   ]
  },
  {
   "cell_type": "code",
   "execution_count": 16,
   "id": "6787a8c7",
   "metadata": {},
   "outputs": [],
   "source": [
    "#Grab web source\n",
    "html = driver.page_source"
   ]
  },
  {
   "cell_type": "code",
   "execution_count": 17,
   "id": "e52a2d1c",
   "metadata": {},
   "outputs": [],
   "source": [
    "#Import BeautifulSoup module and make the page source more readable\n",
    "from bs4 import BeautifulSoup\n",
    "soup = BeautifulSoup(html, 'lxml')"
   ]
  },
  {
   "cell_type": "code",
   "execution_count": 50,
   "id": "dc25e7fe",
   "metadata": {},
   "outputs": [
    {
     "name": "stdout",
     "output_type": "stream",
     "text": [
      "preorder=\"\" type=\"button\">\n",
      "          BUY\n",
      "         </button>\n",
      "        </div>\n",
      "       </div>\n",
      "       <div class=\"product-card p-2.5\" data-brand=\"11\" data-category=\"7\" data-code=\"E01007\" data-id=\"E01007\" data-name=\"BSKIN ELVI PRO\" data-package=\"0\">\n",
      "        <a class=\"product-card__image-wrapper loaded\" href=\"https://www.hdistore.com/product/bskin-elvi-pro.html\" style='background-image:url(\"https://www.hdistore.com/img/product/webp/bskin-elvi-pro.jpg.small.webp\")'>\n",
      "         <picture class=\"product-card__picture\">\n",
      "          <source srcset=\"https://www.hdistore.com/img/product/webp/bskin-elvi-pro.jpg.webp\" type=\"image/webp\">\n",
      "           <source srcset=\"https://www.hdistore.com/img/product/bskin-elvi-pro.jpg\" type=\"image/jpeg\">\n",
      "            <img alt=\"BSKIN ELVI PRO\" class=\"product-card__image lazy\" data-src=\"https://www.hdistore.com/img/product/webp/bskin-elvi-pro.jpg.webp\" loading=\"lazy\" onload=\"this.parentNode.parentNode.classList.add(`loaded`);\" src=\"data:image/gif;base64,R0lGODlhAQABAIAAAP///wAAACH5BAEAAAAALAAAAAABAAEAAAICRAEAOw==\"/>\n",
      "           </source>\n",
      "          </source>\n",
      "         </picture>\n",
      "         <div class=\"product-card__badge-container\">\n",
      "         </div>\n",
      "        </a>\n",
      "        <a class=\"product-card__label text-sm mt-4\" href=\"https://www.hdistore.com/product/bskin-elvi-pro.html\">\n",
      "         BSKIN ELVI PRO\n",
      "        </a>\n",
      "        <div class=\"product-card__price text-base mb-1\">\n",
      "         Rp 4.299.000\n",
      "        </div>\n",
      "        <table class=\"product-card__bvbp\">\n",
      "         <tbody>\n",
      "          <tr>\n",
      "           <td style=\"border-right: 3px solid var(--bright-red); padding-right: 5px;\">\n",
      "            BV 2.364.450\n",
      "           </td>\n",
      "           <td style=\"padding-left: 5px;\">\n",
      "            BP 788,15\n",
      "           </td>\n",
      "          </tr>\n",
      "         </tbody>\n",
      "        </table>\n",
      "        <div class=\"text-center mt-2.5 w-100\">\n",
      "         <button class=\"product-card__buy js-add-to-cart button button-secondary\" data-code=\"E01007\" data-name=\"BSKIN ELVI PRO\" data-preorder=\"0\" type=\"button\">\n",
      "          BUY\n",
      "         </bu\n"
     ]
    }
   ],
   "source": [
    "#The example of catalouge page source that has been proccesed by BeautifulSoup\n",
    "print(soup.prettify()[200000:202000])"
   ]
  },
  {
   "cell_type": "code",
   "execution_count": 51,
   "id": "497c1724",
   "metadata": {},
   "outputs": [],
   "source": [
    "#Grab the product URL's from page source\n",
    "product_urls = [x.get(\"href\") for x in soup.findAll(\"a\", {\"class\" : \"product-card__label text-sm mt-4\"})]"
   ]
  },
  {
   "cell_type": "code",
   "execution_count": 52,
   "id": "cab63a29",
   "metadata": {},
   "outputs": [
    {
     "name": "stdout",
     "output_type": "stream",
     "text": [
      "URL examples :\n"
     ]
    },
    {
     "data": {
      "text/plain": [
       "['https://www.hdistore.com/product/cough-free-promo.html',\n",
       " 'https://www.hdistore.com/product/four-star-set-2024.html',\n",
       " 'https://www.hdistore.com/product/baby-essential-set-preorder.html',\n",
       " 'https://www.hdistore.com/product/bone-joint-health-set-preorder.html',\n",
       " 'https://www.hdistore.com/product/propoelix-power-set.html']"
      ]
     },
     "execution_count": 52,
     "metadata": {},
     "output_type": "execute_result"
    }
   ],
   "source": [
    "#View the examples of product URL\n",
    "print('URL examples :')\n",
    "product_urls[:5]"
   ]
  },
  {
   "cell_type": "code",
   "execution_count": 53,
   "id": "7e12ab15",
   "metadata": {},
   "outputs": [],
   "source": [
    "#Grab the product's price in page\n",
    "prices = [x.text for x in soup.find_all(\"div\", {\"class\" : \"product-card__price text-base mb-1\"})]"
   ]
  },
  {
   "cell_type": "code",
   "execution_count": 56,
   "id": "94cc2989",
   "metadata": {},
   "outputs": [],
   "source": [
    "#Define a function to request and parse a HTML web page\n",
    "def getAndParseURL(url):\n",
    "    page = req.get(url)\n",
    "    soup = BeautifulSoup(page.text, 'html.parser')\n",
    "    return(soup)"
   ]
  },
  {
   "cell_type": "code",
   "execution_count": 59,
   "id": "aca9e5e0",
   "metadata": {},
   "outputs": [],
   "source": [
    "#Import Regular Expression\n",
    "import re"
   ]
  },
  {
   "cell_type": "code",
   "execution_count": 60,
   "id": "62a03dc0",
   "metadata": {},
   "outputs": [],
   "source": [
    "#Define names that will contain the informations we grab from each product's page\n",
    "name = []\n",
    "cat = []\n",
    "desc = []\n",
    "img_url = []\n",
    "# scrape data for every product URL\n",
    "for url in product_urls:\n",
    "    soup = getAndParseURL(url)\n",
    "    # product name\n",
    "    name.append(soup.find(\"div\", class_ = re.compile(\"product-detail__name text-xl\")).text)\n",
    "    # product category\n",
    "    cat.append(soup.find(\"span\", class_ = re.compile(\"text-bold\")).text)\n",
    "    # product description\n",
    "    desc.append(soup.find(\"div\", class_ = \"product-detail__description text-sm js-description-full\").text)\n",
    "    # image url\n",
    "    img_url.append(soup.find(\"img\", class_ = \"product-detail__image\").get(\"src\"))"
   ]
  },
  {
   "cell_type": "code",
   "execution_count": 61,
   "id": "ffa4b1d7",
   "metadata": {},
   "outputs": [],
   "source": [
    "#We'll use pandas module to store the scraped data into data frame\n",
    "import pandas as pd"
   ]
  },
  {
   "cell_type": "code",
   "execution_count": 62,
   "id": "1a2a9f69",
   "metadata": {},
   "outputs": [],
   "source": [
    "#Define the column names that the data will store into the data frame\n",
    "datascrape = pd.DataFrame({\n",
    "    'Product Name' : name,\n",
    "    'Price' : prices,\n",
    "    'Category' : cat,\n",
    "    'Description' : desc,\n",
    "    'Image Url' : img_url})"
   ]
  },
  {
   "cell_type": "code",
   "execution_count": 65,
   "id": "a3e0f3d3",
   "metadata": {},
   "outputs": [
    {
     "data": {
      "text/html": [
       "<div>\n",
       "<style scoped>\n",
       "    .dataframe tbody tr th:only-of-type {\n",
       "        vertical-align: middle;\n",
       "    }\n",
       "\n",
       "    .dataframe tbody tr th {\n",
       "        vertical-align: top;\n",
       "    }\n",
       "\n",
       "    .dataframe thead th {\n",
       "        text-align: right;\n",
       "    }\n",
       "</style>\n",
       "<table border=\"1\" class=\"dataframe\">\n",
       "  <thead>\n",
       "    <tr style=\"text-align: right;\">\n",
       "      <th></th>\n",
       "      <th>Product Name</th>\n",
       "      <th>Price</th>\n",
       "      <th>Category</th>\n",
       "      <th>Description</th>\n",
       "      <th>Image Url</th>\n",
       "    </tr>\n",
       "  </thead>\n",
       "  <tbody>\n",
       "    <tr>\n",
       "      <th>0</th>\n",
       "      <td>COUGH FREE PROMO</td>\n",
       "      <td>Rp 156.000</td>\n",
       "      <td>Paket</td>\n",
       "      <td>PROMO COUGH-FREEBeli 4 Proliz Lozenges GRATIS ...</td>\n",
       "      <td>https://www.hdistore.com/img/product/webp/C030...</td>\n",
       "    </tr>\n",
       "    <tr>\n",
       "      <th>1</th>\n",
       "      <td>FOUR STAR SET</td>\n",
       "      <td>Rp 1.673.000</td>\n",
       "      <td>Paket</td>\n",
       "      <td>Isi Paket:Royale Jelly Liquid (150gr)Bee Propo...</td>\n",
       "      <td>https://www.hdistore.com/img/product/webp/F020...</td>\n",
       "    </tr>\n",
       "    <tr>\n",
       "      <th>2</th>\n",
       "      <td>BABY ESSENTIAL SET - PREORDER</td>\n",
       "      <td>Rp 517.000</td>\n",
       "      <td>Better Botanics</td>\n",
       "      <td>PROMO BABY ESSENTIAL SETBerikan yang Terbaik U...</td>\n",
       "      <td>https://www.hdistore.com/img/product/webp/B011...</td>\n",
       "    </tr>\n",
       "    <tr>\n",
       "      <th>3</th>\n",
       "      <td>BONE &amp; JOINT HEALTH SET-PREORDER</td>\n",
       "      <td>Rp 718.000</td>\n",
       "      <td>HDI</td>\n",
       "      <td>BONE &amp; JOINT HEALTH SETWaktunya Perkuat Keseha...</td>\n",
       "      <td>https://www.hdistore.com/img/product/webp/B011...</td>\n",
       "    </tr>\n",
       "    <tr>\n",
       "      <th>4</th>\n",
       "      <td>PROPOELIX POWER SET</td>\n",
       "      <td>Rp 1.654.000</td>\n",
       "      <td>Paket</td>\n",
       "      <td>Isi Paket:Propoelix™ (60 vegekaps)Royale Jelly...</td>\n",
       "      <td>https://www.hdistore.com/img/product/webp/P020...</td>\n",
       "    </tr>\n",
       "  </tbody>\n",
       "</table>\n",
       "</div>"
      ],
      "text/plain": [
       "                       Product Name         Price         Category  \\\n",
       "0                  COUGH FREE PROMO    Rp 156.000            Paket   \n",
       "1                     FOUR STAR SET  Rp 1.673.000            Paket   \n",
       "2     BABY ESSENTIAL SET - PREORDER    Rp 517.000  Better Botanics   \n",
       "3  BONE & JOINT HEALTH SET-PREORDER    Rp 718.000              HDI   \n",
       "4               PROPOELIX POWER SET  Rp 1.654.000            Paket   \n",
       "\n",
       "                                         Description  \\\n",
       "0  PROMO COUGH-FREEBeli 4 Proliz Lozenges GRATIS ...   \n",
       "1  Isi Paket:Royale Jelly Liquid (150gr)Bee Propo...   \n",
       "2  PROMO BABY ESSENTIAL SETBerikan yang Terbaik U...   \n",
       "3  BONE & JOINT HEALTH SETWaktunya Perkuat Keseha...   \n",
       "4  Isi Paket:Propoelix™ (60 vegekaps)Royale Jelly...   \n",
       "\n",
       "                                           Image Url  \n",
       "0  https://www.hdistore.com/img/product/webp/C030...  \n",
       "1  https://www.hdistore.com/img/product/webp/F020...  \n",
       "2  https://www.hdistore.com/img/product/webp/B011...  \n",
       "3  https://www.hdistore.com/img/product/webp/B011...  \n",
       "4  https://www.hdistore.com/img/product/webp/P020...  "
      ]
     },
     "execution_count": 65,
     "metadata": {},
     "output_type": "execute_result"
    }
   ],
   "source": [
    "#Example of scraped data\n",
    "datascrape[:5]"
   ]
  },
  {
   "cell_type": "code",
   "execution_count": null,
   "id": "ea964c4a",
   "metadata": {},
   "outputs": [],
   "source": []
  }
 ],
 "metadata": {
  "kernelspec": {
   "display_name": "Python 3 (ipykernel)",
   "language": "python",
   "name": "python3"
  },
  "language_info": {
   "codemirror_mode": {
    "name": "ipython",
    "version": 3
   },
   "file_extension": ".py",
   "mimetype": "text/x-python",
   "name": "python",
   "nbconvert_exporter": "python",
   "pygments_lexer": "ipython3",
   "version": "3.11.5"
  }
 },
 "nbformat": 4,
 "nbformat_minor": 5
}
